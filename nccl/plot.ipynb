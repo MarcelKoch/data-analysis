{
 "cells": [
  {
   "cell_type": "code",
   "execution_count": null,
   "metadata": {},
   "outputs": [],
   "source": [
    "import re\n",
    "\n",
    "import matplotlib.pyplot as plt\n",
    "import pandas as pd\n",
    "from pathlib import Path\n",
    "from ploting import *\n",
    "import json"
   ]
  },
  {
   "cell_type": "code",
   "execution_count": null,
   "metadata": {},
   "outputs": [],
   "source": [
    "root_path = \"frontier\"\n",
    "gccl = {\"frontier\": \"RCCL\",\n",
    "        \"perlmutter\": \"NCCL\"}[root_path]"
   ]
  },
  {
   "cell_type": "code",
   "execution_count": null,
   "metadata": {},
   "outputs": [],
   "source": [
    "name_re = re.compile(\"timings\\.(\\d+)\\.json\")"
   ]
  },
  {
   "cell_type": "code",
   "execution_count": null,
   "metadata": {},
   "outputs": [],
   "source": [
    "data = json.load(open(f\"frontier/data/timings.16.json\"))\n",
    "data[\"benchmarks\"]"
   ]
  },
  {
   "cell_type": "code",
   "execution_count": null,
   "metadata": {},
   "outputs": [],
   "source": [
    "def to_seconds(t, unit):\n",
    "    map = {'ns': 1e-9}\n",
    "    return float(t) * map[unit]"
   ]
  },
  {
   "cell_type": "code",
   "execution_count": null,
   "metadata": {},
   "outputs": [],
   "source": [
    "def flatten(json_data, extra_data=None):\n",
    "    extra_data = extra_data or dict()\n",
    "    flat_data = []\n",
    "    for run in json_data[\"benchmarks\"]:\n",
    "        full_name = run[\"name\"].split(\"/\")\n",
    "        operation = full_name[0]\n",
    "        comm = full_name[1]\n",
    "        msg_size = full_name[2]\n",
    "        kernels = full_name[3]\n",
    "\n",
    "        flat_run = {}\n",
    "        flat_run.update(operation=operation, comm=comm, msg_size=int(msg_size), kernels=int(kernels),\n",
    "                        real_time=to_seconds(run[\"real_time\"], run[\"time_unit\"]),\n",
    "                        cpu_time=to_seconds(run[\"real_time\"], run[\"time_unit\"]),\n",
    "                        **extra_data)\n",
    "        flat_data.append(flat_run)\n",
    "    return flat_data"
   ]
  },
  {
   "cell_type": "code",
   "execution_count": null,
   "metadata": {},
   "outputs": [],
   "source": [
    "data = []\n",
    "for file in Path(f\"{root_path}/data\").iterdir():\n",
    "    if m := name_re.search(file.name):\n",
    "        data += flatten(json.load(open(file)), {\"tasks\": int(m.group(1))})\n",
    "df = pd.DataFrame(data)\n",
    "df = df[df.comm != 'None']\n",
    "def rename_gccl(v):\n",
    "    if not isinstance(v, str):\n",
    "        return v\n",
    "    if v == \"NCCL\":\n",
    "        return gccl\n",
    "    else:\n",
    "        return v\n",
    "df = df.applymap(rename_gccl)\n",
    "df"
   ]
  },
  {
   "cell_type": "code",
   "execution_count": null,
   "metadata": {},
   "outputs": [],
   "source": [
    "piv = df.set_index([\"tasks\", \"operation\", \"msg_size\", \"kernels\", \"comm\" ])\n",
    "piv = piv.sort_index()\n",
    "piv"
   ]
  },
  {
   "cell_type": "code",
   "execution_count": null,
   "metadata": {},
   "outputs": [],
   "source": [
    "piv.xs((\"AllToAll\", 5), level=(\"operation\", \"kernels\")).query(f\"comm in ['MPI', '{gccl}']\")"
   ]
  },
  {
   "cell_type": "code",
   "execution_count": null,
   "metadata": {},
   "outputs": [],
   "source": [
    "piv.query(f\"comm in ['MPI', '{gccl}']\").xs(5, level=\"kernels\").unstack([\"operation\", \"comm\"]).real_time.columns"
   ]
  },
  {
   "cell_type": "code",
   "execution_count": null,
   "metadata": {},
   "outputs": [],
   "source": [
    "piv.query(f\"comm in ['MPI', '{gccl}']\").xs(5, level=\"kernels\").unstack([\"operation\", \"comm\"]).real_time.columns"
   ]
  },
  {
   "cell_type": "code",
   "execution_count": null,
   "metadata": {},
   "outputs": [],
   "source": [
    "tmp_df = piv.query(f\"comm in ['MPI', '{gccl}']\").xs(5, level=\"kernels\").unstack([\"operation\", \"comm\"]).real_time\n",
    "fig, axs = plt.subplots(3, 2,\n",
    "                        figsize=(14 * 0.75, 12 * 0.75), dpi=300, sharex=True, sharey=True)\n",
    "for (operation, comm), ax in zip(tmp_df.columns, axs.flatten()):\n",
    "    _df = tmp_df[operation][comm].dropna().unstack(\"msg_size\")\n",
    "    ax.set_prop_cycle(default_cycler)\n",
    "    ax.set_title(f\"{operation} with {comm}\")\n",
    "    _df.plot(ax=ax, legend=True, logx=True, logy=True)\n",
    "    ax.set_ylabel(\"Runtime in s\")\n",
    "    ax.set_xlabel(\"Num GPUs\")\n",
    "fig.savefig(f\"{root_path}/img/runtime.png\")"
   ]
  },
  {
   "cell_type": "code",
   "execution_count": null,
   "metadata": {},
   "outputs": [],
   "source": [
    "tmp_df = piv.xs((\"AllToAll\", 5), level=(\"operation\", \"kernels\")).unstack(\"comm\").real_time\n",
    "comms = [n for n in tmp_df.columns if n != \"MPI\"]\n",
    "fig, axs = plt.subplots(len(comms), 1, figsize=(14 * 0.7, 12 * 0.7), dpi=300, sharex=True)\n",
    "for comm, ax in zip(comms, axs.flatten()):\n",
    "    operation = \"AllToAll\"\n",
    "    _mpi = tmp_df[\"MPI\"].dropna()\n",
    "    _nccl = tmp_df[comm].dropna()\n",
    "    speedup = _mpi / _nccl\n",
    "    speedup = speedup.unstack(\"msg_size\")\n",
    "    ax.set_prop_cycle(default_cycler)\n",
    "    ax.set_title(f\"{operation} Speedup {comm} over MPI\")\n",
    "    speedup.plot(ax=ax, legend=True, logx=True, logy=True)\n",
    "    ax.axhline(1, c=\"gray\", ls=\"--\")\n",
    "    ax.set_ylabel(\"Speedup\")\n",
    "    ax.set_xlabel(\"Num GPUs\")\n",
    "fig.savefig(f\"{root_path}/img/all-to-all.png\")"
   ]
  },
  {
   "cell_type": "code",
   "execution_count": null,
   "metadata": {},
   "outputs": [],
   "source": [
    "tmp_df = piv.real_time.unstack([\"operation\", \"comm\"]).xs(5, level=\"kernels\")\n",
    "fig, axs = plt.subplots(len(tmp_df.columns.levels[0]), 1, figsize=(14 * 0.7, 12 * 0.7), dpi=300, sharex=True, sharey=True)\n",
    "for operation, ax in zip(tmp_df.columns.levels[0], axs.flatten()):\n",
    "    _mpi = tmp_df[operation][\"MPI\"].dropna()\n",
    "    _nccl = tmp_df[operation][gccl].dropna()\n",
    "    speedup = _mpi / _nccl\n",
    "    speedup = speedup.unstack(\"msg_size\")\n",
    "    ax.set_prop_cycle(default_cycler)\n",
    "    ax.set_title(f\"{operation} Speedup {gccl} over MPI\")\n",
    "    speedup.plot(ax=ax, legend=True, logx=True, logy=True)\n",
    "    ax.axhline(1, c=\"gray\", ls=\"--\")\n",
    "    ax.set_ylabel(\"Speedup\")\n",
    "    ax.set_xlabel(\"Num GPUs\")\n",
    "fig.savefig(f\"{root_path}/img/speedup.png\")"
   ]
  },
  {
   "cell_type": "code",
   "execution_count": null,
   "metadata": {},
   "outputs": [],
   "source": [
    "fig, ax = plt.subplots(1, 1, dpi=160, figsize=(4, 3), layout=\"tight\")\n",
    "_df = piv.real_time.xs((\"AllReduce\", 5), level=(\"operation\", \"kernels\")).unstack([\"comm\", \"msg_size\"])\n",
    "speedup = _df.MPI / _df[gccl]\n",
    "speedup = speedup.rename(columns=dict((i, i * 8) for i in speedup.columns))\n",
    "speedup = speedup.rename_axis(\"Message Size\", axis=1)\n",
    "speedup.plot(ax=ax, logx=True, logy=False)\n",
    "ax.axhline(1, c=\"gray\", ls=\"--\")\n",
    "ax.set_title(f\"All-Reduce Speedup of {gccl} Over MPI\")\n",
    "ax.set_xlabel(\"Num GPUs\")\n",
    "ax.set_ylabel(\"Speedup\")\n",
    "fig.savefig(f\"{root_path}/img/all-reduce-speedup.png\")"
   ]
  },
  {
   "cell_type": "code",
   "execution_count": null,
   "metadata": {},
   "outputs": [],
   "source": [
    "fig, axs = plt.subplots(1, 2, dpi=160, figsize=(8, 3), sharey=True, layout=\"tight\")\n",
    "_df = piv.real_time.xs((\"AllToAll\", 5), level=(\"operation\", \"kernels\")).unstack([\"comm\", \"msg_size\"])\n",
    "speedup = pd.concat([_df.MPI /_df[gccl], _df.MPI / _df.MPI_NeighborHood], axis=1, keys=[gccl, \"Neighborhood\"])\n",
    "for operation, ax in zip(speedup.columns.levels[0], axs.flatten()):\n",
    "    sp = speedup[operation]\n",
    "    sp = sp.rename(columns=dict((i, i * 8) for i in sp.columns))\n",
    "    sp = sp.rename_axis(\"Message Size\", axis=1)\n",
    "    ax.set_prop_cycle(default_cycler)\n",
    "    ax.set_title(f\"All-To-All Speedup of {operation} over MPI\")\n",
    "    sp.plot(ax=ax, legend=True, logx=True, logy=True)\n",
    "    ax.axhline(1, c=\"gray\", ls=\"--\")\n",
    "    ax.set_ylabel(\"Speedup\")\n",
    "    ax.set_xlabel(\"Num GPUs\")\n",
    "fig.savefig(f\"{root_path}/img/all-to-all-speedup.png\", )"
   ]
  }
 ],
 "metadata": {
  "kernelspec": {
   "display_name": "Python 3",
   "language": "python",
   "name": "python3"
  },
  "language_info": {
   "codemirror_mode": {
    "name": "ipython",
    "version": 2
   },
   "file_extension": ".py",
   "mimetype": "text/x-python",
   "name": "python",
   "nbconvert_exporter": "python",
   "pygments_lexer": "ipython2",
   "version": "2.7.6"
  }
 },
 "nbformat": 4,
 "nbformat_minor": 0
}
