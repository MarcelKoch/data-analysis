{
 "cells": [
  {
   "cell_type": "code",
   "execution_count": null,
   "metadata": {},
   "outputs": [],
   "source": [
    "import re\n",
    "\n",
    "import pandas as pd\n",
    "from pathlib import Path\n",
    "from ploting import *\n",
    "import json"
   ]
  },
  {
   "cell_type": "code",
   "execution_count": null,
   "metadata": {},
   "outputs": [],
   "source": [
    "root_path = \"perlmutter\""
   ]
  },
  {
   "cell_type": "code",
   "execution_count": null,
   "metadata": {},
   "outputs": [],
   "source": [
    "name_re = re.compile(\"timings\\.(\\d+)\\.json\")"
   ]
  },
  {
   "cell_type": "code",
   "execution_count": null,
   "metadata": {},
   "outputs": [],
   "source": [
    "data = json.load(open(f\"frontier/data/timings.16.json\"))\n",
    "data[\"benchmarks\"]"
   ]
  },
  {
   "cell_type": "code",
   "execution_count": null,
   "metadata": {},
   "outputs": [],
   "source": [
    "def to_seconds(t, unit):\n",
    "    map = {'ns': 1e-9}\n",
    "    return float(t) * map[unit]"
   ]
  },
  {
   "cell_type": "code",
   "execution_count": null,
   "metadata": {},
   "outputs": [],
   "source": [
    "def flatten(json_data, extra_data=None):\n",
    "    extra_data = extra_data or dict()\n",
    "    flat_data = []\n",
    "    for run in json_data[\"benchmarks\"]:\n",
    "        full_name = run[\"name\"].split(\"/\")\n",
    "        operation = full_name[0]\n",
    "        comm = full_name[1]\n",
    "        msg_size = full_name[2]\n",
    "        kernels = full_name[3]\n",
    "\n",
    "        flat_run = {}\n",
    "        flat_run.update(operation=operation, comm=comm, msg_size=int(msg_size), kernels=int(kernels),\n",
    "                        real_time=to_seconds(run[\"real_time\"], run[\"time_unit\"]),\n",
    "                        cpu_time=to_seconds(run[\"real_time\"], run[\"time_unit\"]),\n",
    "                        **extra_data)\n",
    "        flat_data.append(flat_run)\n",
    "    return flat_data"
   ]
  },
  {
   "cell_type": "code",
   "execution_count": null,
   "metadata": {},
   "outputs": [],
   "source": [
    "data = []\n",
    "for file in Path(f\"{root_path}/data\").iterdir():\n",
    "    if m := name_re.search(file.name):\n",
    "        data += flatten(json.load(open(file)), {\"tasks\": int(m.group(1))})\n",
    "df = pd.DataFrame(data)\n",
    "df = df[df.comm != 'None']\n",
    "df"
   ]
  },
  {
   "cell_type": "code",
   "execution_count": null,
   "metadata": {},
   "outputs": [],
   "source": [
    "piv = df.set_index([\"tasks\", \"operation\", \"msg_size\", \"kernels\", \"comm\" ])\n",
    "piv = piv.sort_index()\n",
    "piv"
   ]
  },
  {
   "cell_type": "code",
   "execution_count": null,
   "metadata": {},
   "outputs": [],
   "source": [
    "piv.xs((\"AllToAll\", 5), level=(\"operation\", \"kernels\")).query(\"comm in ['MPI', 'NCCL']\")"
   ]
  },
  {
   "cell_type": "code",
   "execution_count": null,
   "metadata": {},
   "outputs": [],
   "source": [
    "piv.query(\"comm in ['MPI', 'NCCL']\").xs(5, level=\"kernels\").unstack([\"operation\", \"comm\"]).real_time.columns"
   ]
  },
  {
   "cell_type": "code",
   "execution_count": null,
   "metadata": {},
   "outputs": [],
   "source": [
    "piv.query(\"comm in ['MPI', 'NCCL']\").xs(5, level=\"kernels\").unstack([\"operation\", \"comm\"]).real_time.columns"
   ]
  },
  {
   "cell_type": "code",
   "execution_count": null,
   "metadata": {},
   "outputs": [],
   "source": [
    "tmp_df = piv.query(\"comm in ['MPI', 'NCCL']\").xs(5, level=\"kernels\").unstack([\"operation\", \"comm\"]).real_time\n",
    "fig, axs = plt.subplots(3, 2,\n",
    "                        figsize=(14 * 0.75, 12 * 0.75), dpi=300, sharex=True, sharey=True)\n",
    "for (operation, comm), ax in zip(tmp_df.columns, axs.flatten()):\n",
    "    _df = tmp_df[operation][comm].dropna().unstack(\"msg_size\")\n",
    "    ax.set_prop_cycle(default_cycler)\n",
    "    ax.set_title(f\"{operation} with {comm}\")\n",
    "    _df.plot(ax=ax, legend=True, logx=True, logy=True)\n",
    "    ax.set_ylabel(\"Runtime in s\")\n",
    "    ax.set_xlabel(\"Num GPUs\")\n",
    "fig.savefig(f\"{root_path}/img/runtime.png\")"
   ]
  },
  {
   "cell_type": "code",
   "execution_count": null,
   "metadata": {},
   "outputs": [],
   "source": [
    "tmp_df = piv.xs((\"AllToAll\", 5), level=(\"operation\", \"kernels\")).unstack(\"comm\").real_time\n",
    "comms = [n for n in tmp_df.columns if n != \"MPI\"]\n",
    "fig, axs = plt.subplots(len(comms), 1, figsize=(14 * 0.7, 12 * 0.7), dpi=300, sharex=True)\n",
    "for comm, ax in zip(comms, axs.flatten()):\n",
    "    operation = \"AllToAll\"\n",
    "    _mpi = tmp_df[\"MPI\"].dropna()\n",
    "    _nccl = tmp_df[comm].dropna()\n",
    "    speedup = _mpi / _nccl\n",
    "    speedup = speedup.unstack(\"msg_size\")\n",
    "    ax.set_prop_cycle(default_cycler)\n",
    "    ax.set_title(f\"{operation} Speedup {comm} over MPI\")\n",
    "    speedup.plot(ax=ax, legend=True, logx=True, logy=True)\n",
    "    ax.axhline(1, c=\"gray\", ls=\"--\")\n",
    "    ax.set_ylabel(\"Speedup\")\n",
    "    ax.set_xlabel(\"Num GPUs\")\n",
    "fig.savefig(f\"{root_path}/img/all-to-all.png\")"
   ]
  },
  {
   "cell_type": "code",
   "execution_count": null,
   "metadata": {},
   "outputs": [],
   "source": [
    "tmp_df = piv.real_time.unstack([\"operation\", \"comm\"]).xs(5, level=\"kernels\")\n",
    "fig, axs = plt.subplots(len(tmp_df.columns.levels[0]), 1, figsize=(14 * 0.7, 12 * 0.7), dpi=300, sharex=True, sharey=True)\n",
    "for operation, ax in zip(tmp_df.columns.levels[0], axs.flatten()):\n",
    "    _mpi = tmp_df[operation][\"MPI\"].dropna()\n",
    "    _nccl = tmp_df[operation][\"NCCL\"].dropna()\n",
    "    speedup = _mpi / _nccl\n",
    "    speedup = speedup.unstack(\"msg_size\")\n",
    "    ax.set_prop_cycle(default_cycler)\n",
    "    ax.set_title(f\"{operation} Speedup NCCL over MPI\")\n",
    "    speedup.plot(ax=ax, legend=True, logx=True, logy=True)\n",
    "    ax.axhline(1, c=\"gray\", ls=\"--\")\n",
    "    ax.set_ylabel(\"Speedup\")\n",
    "    ax.set_xlabel(\"Num GPUs\")\n",
    "fig.savefig(f\"{root_path}/img/speedup.png\")"
   ]
  },
  {
   "cell_type": "code",
   "execution_count": null,
   "metadata": {},
   "outputs": [],
   "source": [
    "flops = (2 * piv.nnz) / piv.time / 1e12\n",
    "print(flops)"
   ]
  },
  {
   "cell_type": "code",
   "execution_count": null,
   "metadata": {},
   "outputs": [],
   "source": [
    "spmv = \"csr-coo\"\n",
    "tmp_flops = flops[spmv].unstack([\"stencil\", \"local_size\"])\n",
    "fig, axs = plt.subplots(2, 2, figsize=(14 * 0.75, 12 * 0.75), dpi=300, sharex=True, sharey=True)\n",
    "for stencil, ax in zip(tmp_flops.columns.levels[0], axs.flatten()):\n",
    "    _df = tmp_flops[stencil]\n",
    "    ax.set_prop_cycle(default_cycler)\n",
    "    _df.plot(ax=ax, legend=True, logx=True, logy=True)\n",
    "    ax.set_title(f\"{stencil} with {spmv}\")\n",
    "    ax.set_ylabel(\"TFLOP/s\")\n",
    "    ax.set_xlabel(\"Num GPUs\")\n",
    "    #ax.legend([f\"{n:g}\" for n in _df.columns.levels[1]])\n",
    "    #fig.savefig(f\"{root_path}/img/{dim}d.png\")"
   ]
  },
  {
   "cell_type": "code",
   "execution_count": null,
   "metadata": {},
   "outputs": [],
   "source": []
  }
 ],
 "metadata": {
  "kernelspec": {
   "display_name": "Python 3",
   "language": "python",
   "name": "python3"
  },
  "language_info": {
   "codemirror_mode": {
    "name": "ipython",
    "version": 2
   },
   "file_extension": ".py",
   "mimetype": "text/x-python",
   "name": "python",
   "nbconvert_exporter": "python",
   "pygments_lexer": "ipython2",
   "version": "2.7.6"
  }
 },
 "nbformat": 4,
 "nbformat_minor": 0
}
