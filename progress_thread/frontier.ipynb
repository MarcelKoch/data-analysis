{
 "cells": [
  {
   "cell_type": "code",
   "execution_count": null,
   "metadata": {},
   "outputs": [],
   "source": [
    "import re\n",
    "\n",
    "import pandas as pd\n",
    "from pathlib import Path\n",
    "from ploting import *\n",
    "import json"
   ]
  },
  {
   "cell_type": "code",
   "execution_count": null,
   "metadata": {},
   "outputs": [],
   "source": [
    "root_path = \"frontier\""
   ]
  },
  {
   "cell_type": "code",
   "execution_count": null,
   "metadata": {},
   "outputs": [],
   "source": [
    "name_re = re.compile(\"(weak|strong)_scaling-nodes_(\\d+)-tpn_(\\d+)-(gpu|cpu)\")"
   ]
  },
  {
   "cell_type": "code",
   "execution_count": null,
   "metadata": {},
   "outputs": [],
   "source": [
    "def flatten(json_data, extra_data):\n",
    "    flat_data = []\n",
    "    for run in json_data:\n",
    "        for spmv_name, spmv_data in run[\"spmv\"].items():\n",
    "            flat_run = {}\n",
    "            flat_run[\"spmv\"] = spmv_name\n",
    "            flat_run.update(**extra_data)\n",
    "            flat_run.update(**spmv_data)\n",
    "            flat_run.update((k, v) for k, v in run.items() if k not in [\"spmv\", \"optimal\"])\n",
    "            flat_data.append(flat_run)\n",
    "    return flat_data"
   ]
  },
  {
   "cell_type": "code",
   "execution_count": null,
   "metadata": {},
   "outputs": [],
   "source": [
    "def read_data(path, *, progress_thread):\n",
    "    data = []\n",
    "    for file in Path(path).iterdir():\n",
    "        if m := name_re.search(file.name):\n",
    "            data += flatten(json.load(open(file)), {\"tasks\": int(m.group(2)) * int(m.group(3)),\n",
    "                                                    \"progress_thread\": progress_thread})\n",
    "    df = pd.DataFrame(data)\n",
    "    df[\"local_size\"] = df[\"size\"] // df[\"tasks\"]\n",
    "    df[\"nnz\"] = df[\"nnz\"] * df[\"tasks\"]  # benchmarks report only local nnz\n",
    "    return df.drop(columns=[\"size\", \"max_relative_norm2\", \"completed\", \"repetitions\", \"comm_pattern\"])\n"
   ]
  },
  {
   "cell_type": "code",
   "execution_count": null,
   "metadata": {},
   "outputs": [],
   "source": [
    "df = pd.concat([\n",
    "    read_data(f\"{root_path}/with\", progress_thread=True),\n",
    "    read_data(f\"{root_path}/without\", progress_thread=False),\n",
    "])\n",
    "df"
   ]
  },
  {
   "cell_type": "code",
   "execution_count": null,
   "metadata": {},
   "outputs": [],
   "source": [
    "piv = df.set_index([\"tasks\", \"local_size\", \"progress_thread\"]).sort_index()\n",
    "piv"
   ]
  },
  {
   "cell_type": "code",
   "execution_count": null,
   "metadata": {},
   "outputs": [],
   "source": [
    "time = piv.time.unstack(\"progress_thread\")\n",
    "time"
   ]
  },
  {
   "cell_type": "code",
   "execution_count": null,
   "metadata": {},
   "outputs": [],
   "source": [
    "speedup = (time[False] / time[True]).unstack(\"local_size\")\n",
    "speedup"
   ]
  },
  {
   "cell_type": "code",
   "execution_count": null,
   "metadata": {},
   "outputs": [],
   "source": [
    "speedup.plot(logx=True)"
   ]
  }
 ],
 "metadata": {
  "kernelspec": {
   "display_name": "Python 3",
   "language": "python",
   "name": "python3"
  },
  "language_info": {
   "codemirror_mode": {
    "name": "ipython",
    "version": 2
   },
   "file_extension": ".py",
   "mimetype": "text/x-python",
   "name": "python",
   "nbconvert_exporter": "python",
   "pygments_lexer": "ipython2",
   "version": "2.7.6"
  }
 },
 "nbformat": 4,
 "nbformat_minor": 0
}
