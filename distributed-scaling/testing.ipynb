{
 "cells": [
  {
   "cell_type": "code",
   "execution_count": null,
   "metadata": {
    "pycharm": {
     "name": "#%%\n"
    }
   },
   "outputs": [],
   "source": [
    "import re\n",
    "\n",
    "import pandas as pd\n",
    "from pathlib import Path\n",
    "from ploting import *"
   ]
  },
  {
   "cell_type": "code",
   "execution_count": null,
   "metadata": {
    "pycharm": {
     "name": "#%%\n"
    }
   },
   "outputs": [],
   "source": [
    "root_path = \"perlmutter\""
   ]
  },
  {
   "cell_type": "code",
   "execution_count": null,
   "metadata": {
    "pycharm": {
     "name": "#%%\n"
    }
   },
   "outputs": [],
   "source": [
    "name_re = re.compile(\"(weak|strong)_scaling-d_(\\d+)-n_(\\d+)-([\\w_]+)_comm-(gpu|cpu)-nodes_(\\d+)\")"
   ]
  },
  {
   "cell_type": "code",
   "execution_count": null,
   "metadata": {
    "pycharm": {
     "name": "#%%\n"
    }
   },
   "outputs": [],
   "source": [
    "time_re = re.compile(\"DURATION:\\s*(\\d+(\\.\\d+)?(e[+-]\\d+)?)\")"
   ]
  },
  {
   "cell_type": "code",
   "execution_count": null,
   "metadata": {
    "pycharm": {
     "name": "#%%\n"
    }
   },
   "outputs": [],
   "source": [
    "data = []\n",
    "for file in Path(f\"{root_path}/data\").iterdir():\n",
    "    if m := name_re.search(file.name):\n",
    "        with open(file, \"r\") as input:\n",
    "            if t_m := time_re.search(input.read()):\n",
    "                duration = t_m.group(1)\n",
    "                data.append({\"scaling\": m.group(1), \"dim\": m.group(2), \"n\": m.group(3), \"comm_pattern\": m.group(4),\n",
    "                             \"type\": m.group(5), \"nodes\": m.group(6), \"time\": duration})\n",
    "df = pd.DataFrame(data).drop(columns=[\"scaling\", \"type\"]).astype({\"dim\": int, \"n\": int, \"nodes\": int, \"time\": float})\n",
    "df"
   ]
  },
  {
   "cell_type": "code",
   "execution_count": null,
   "metadata": {
    "pycharm": {
     "name": "#%%\n"
    }
   },
   "outputs": [],
   "source": [
    "piv = df.pivot(index=\"nodes\", columns=[\"dim\", \"comm_pattern\", \"n\"], values=\"time\")\n",
    "piv = piv[piv.columns.sort_values()]\n",
    "piv"
   ]
  },
  {
   "cell_type": "code",
   "execution_count": null,
   "metadata": {
    "pycharm": {
     "name": "#%%\n"
    }
   },
   "outputs": [],
   "source": [
    "for dim in piv.columns.levels[0]:\n",
    "    _df = piv[dim]\n",
    "    for gc in piv.columns.levels[1]:\n",
    "        fig, ax = plt.subplots(dpi=300)\n",
    "        ax.set_prop_cycle(default_cycler if gc == \"stencil\" else dashed_cylcer)\n",
    "        ax.set_title(f\"{dim}D\")\n",
    "        _df[gc].apply(lambda s: s[1] / s).plot(ax=ax, legend=False, logx=True)\n",
    "        ax.legend([f\"{n:g}\" for n in piv.columns.levels[2]])\n",
    "    #fig.savefig(f\"{root_path}/img/{dim}d.png\")"
   ]
  },
  {
   "cell_type": "code",
   "execution_count": null,
   "metadata": {
    "pycharm": {
     "name": "#%%\n"
    }
   },
   "outputs": [],
   "source": []
  }
 ],
 "metadata": {
  "kernelspec": {
   "display_name": "Python 3",
   "language": "python",
   "name": "python3"
  },
  "language_info": {
   "codemirror_mode": {
    "name": "ipython",
    "version": 2
   },
   "file_extension": ".py",
   "mimetype": "text/x-python",
   "name": "python",
   "nbconvert_exporter": "python",
   "pygments_lexer": "ipython2",
   "version": "2.7.6"
  }
 },
 "nbformat": 4,
 "nbformat_minor": 0
}
