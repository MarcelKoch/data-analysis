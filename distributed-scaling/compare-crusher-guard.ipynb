{
 "cells": [
  {
   "cell_type": "code",
   "execution_count": null,
   "metadata": {
    "pycharm": {
     "name": "#%%\n"
    }
   },
   "outputs": [],
   "source": [
    "import re\n",
    "\n",
    "import pandas as pd\n",
    "from pathlib import Path\n",
    "from ploting import *"
   ]
  },
  {
   "cell_type": "code",
   "execution_count": null,
   "metadata": {
    "pycharm": {
     "name": "#%%\n"
    }
   },
   "outputs": [],
   "source": [
    "root_path = \"horeka\""
   ]
  },
  {
   "cell_type": "code",
   "execution_count": null,
   "metadata": {
    "pycharm": {
     "name": "#%%\n"
    }
   },
   "outputs": [],
   "source": [
    "name_re = re.compile(\"(weak|strong)_scaling-d_(\\d+)-n_(\\d+)-([\\w_]+)_comm-(gpu|cpu)-nodes_(\\d+)\")"
   ]
  },
  {
   "cell_type": "code",
   "execution_count": null,
   "metadata": {
    "pycharm": {
     "name": "#%%\n"
    }
   },
   "outputs": [],
   "source": [
    "time_re = re.compile(\"DURATION:\\s*(\\d+(\\.\\d+)?(e[+-]\\d+)?)\")"
   ]
  },
  {
   "cell_type": "code",
   "execution_count": null,
   "metadata": {
    "pycharm": {
     "name": "#%%\n"
    }
   },
   "outputs": [],
   "source": [
    "def create_df(path):\n",
    "    data = []\n",
    "    for file in Path(f\"{path}/data\").iterdir():\n",
    "        if m := name_re.search(file.name):\n",
    "            with open(file, \"r\") as input:\n",
    "                if t_m := time_re.search(input.read()):\n",
    "                    duration = t_m.group(1)\n",
    "                    data.append({\"scaling\": m.group(1), \"dim\": m.group(2), \"n\": m.group(3), \"comm_pattern\": m.group(4),\n",
    "                                 \"type\": m.group(5), \"nodes\": m.group(6), \"time\": duration})\n",
    "    df = pd.DataFrame(data)\n",
    "    df = df[df.comm_pattern == \"optimal\"]\n",
    "    return df.drop(columns=[\"scaling\", \"type\", \"comm_pattern\"]).astype({\"dim\": int, \"n\": int, \"nodes\": int, \"time\": float})"
   ]
  },
  {
   "cell_type": "code",
   "execution_count": null,
   "metadata": {
    "pycharm": {
     "name": "#%%\n"
    }
   },
   "outputs": [],
   "source": [
    "def pivot(df):\n",
    "    piv = df.pivot(index=\"nodes\", columns=[\"dim\", \"n\"], values=\"time\")\n",
    "    return piv[piv.columns.sort_values()]"
   ]
  },
  {
   "cell_type": "code",
   "execution_count": null,
   "metadata": {
    "pycharm": {
     "name": "#%%\n"
    }
   },
   "outputs": [],
   "source": [
    "df_with_guard = create_df(\"crusher-guard\")\n",
    "df_with_guard = pivot(df_with_guard)\n",
    "df_with_guard"
   ]
  },
  {
   "cell_type": "code",
   "execution_count": null,
   "metadata": {
    "pycharm": {
     "name": "#%%\n"
    }
   },
   "outputs": [],
   "source": [
    "df_without_guard = create_df(\"crusher\")\n",
    "df_without_guard = pivot(df_without_guard)\n",
    "df_without_guard"
   ]
  },
  {
   "cell_type": "code",
   "execution_count": null,
   "metadata": {
    "pycharm": {
     "name": "#%%\n"
    }
   },
   "outputs": [],
   "source": [
    "df = df_with_guard / df_without_guard\n",
    "for dim in df_without_guard.columns.levels[0]:\n",
    "    fig, ax = plt.subplots(dpi=300)\n",
    "    _df = df[dim]\n",
    "    ax.set_prop_cycle(default_cycler)\n",
    "    ax.set_title(f\"{dim}D\")\n",
    "    _df.plot(ax=ax, legend=False, logx=True, logy=True)\n",
    "    ax.legend([f\"{n:g}\" for n in df.columns.levels[1]])\n",
    "    #fig.savefig(f\"runtime-mpi-comparison-{dim}d.png\")"
   ]
  },
  {
   "cell_type": "code",
   "execution_count": null,
   "metadata": {
    "pycharm": {
     "name": "#%%\n"
    }
   },
   "outputs": [],
   "source": []
  }
 ],
 "metadata": {
  "kernelspec": {
   "display_name": "Python 3",
   "language": "python",
   "name": "python3"
  },
  "language_info": {
   "codemirror_mode": {
    "name": "ipython",
    "version": 2
   },
   "file_extension": ".py",
   "mimetype": "text/x-python",
   "name": "python",
   "nbconvert_exporter": "python",
   "pygments_lexer": "ipython2",
   "version": "2.7.6"
  }
 },
 "nbformat": 4,
 "nbformat_minor": 0
}
