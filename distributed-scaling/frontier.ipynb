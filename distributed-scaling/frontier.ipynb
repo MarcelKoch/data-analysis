{
 "cells": [
  {
   "cell_type": "code",
   "execution_count": null,
   "metadata": {},
   "outputs": [],
   "source": [
    "import re\n",
    "\n",
    "import pandas as pd\n",
    "from pathlib import Path\n",
    "from ploting import *\n",
    "import json"
   ]
  },
  {
   "cell_type": "code",
   "execution_count": null,
   "metadata": {},
   "outputs": [],
   "source": [
    "root_path = \"frontier\""
   ]
  },
  {
   "cell_type": "code",
   "execution_count": null,
   "metadata": {},
   "outputs": [],
   "source": [
    "name_re = re.compile(\"(weak|strong)_scaling-nodes_(\\d+)-tpn_(\\d+)-(gpu|cpu)\")"
   ]
  },
  {
   "cell_type": "code",
   "execution_count": null,
   "metadata": {},
   "outputs": [],
   "source": [
    "data = json.load(open(f\"frontier/data/weak_scaling-nodes_1-tpn_1-gpu.json\"))\n",
    "data"
   ]
  },
  {
   "cell_type": "code",
   "execution_count": null,
   "metadata": {},
   "outputs": [],
   "source": [
    "def flatten(json_data, extra_data):\n",
    "    flat_data = []\n",
    "    for run in json_data:\n",
    "        for spmv_name, spmv_data in run[\"spmv\"].items():\n",
    "            flat_run = {}\n",
    "            flat_run[\"spmv\"] = spmv_name\n",
    "            flat_run.update(**extra_data)\n",
    "            flat_run.update(**spmv_data)\n",
    "            flat_run.update((k, v) for k, v in run.items() if k not in [\"spmv\", \"optimal\"])\n",
    "            flat_data.append(flat_run)\n",
    "    return flat_data"
   ]
  },
  {
   "cell_type": "code",
   "execution_count": null,
   "metadata": {},
   "outputs": [],
   "source": [
    "data = []\n",
    "for file in Path(f\"{root_path}/data\").iterdir():\n",
    "    if m := name_re.search(file.name):\n",
    "        data += flatten(json.load(open(file)), {\"tasks\": int(m.group(2)) * int(m.group(3))})\n",
    "df = pd.DataFrame(data)\n",
    "df[\"local_size\"] = df[\"size\"] // df[\"tasks\"]\n",
    "df[\"nnz\"] = df[\"nnz\"] * df[\"tasks\"]  # benchmarks report only local nnz\n",
    "df = df.drop(columns=[\"size\", \"max_relative_norm2\", \"completed\", \"repetitions\", \"comm_pattern\"])\n",
    "df"
   ]
  },
  {
   "cell_type": "code",
   "execution_count": null,
   "metadata": {},
   "outputs": [],
   "source": [
    "piv = df.pivot(index=[\"tasks\", \"local_size\", \"stencil\"], columns=[\"spmv\"])\n",
    "piv = piv[piv.columns.sort_values()].sort_index()\n",
    "piv"
   ]
  },
  {
   "cell_type": "code",
   "execution_count": null,
   "metadata": {},
   "outputs": [],
   "source": [
    "100000**(2/3)*6 *8 / 1024"
   ]
  },
  {
   "cell_type": "code",
   "execution_count": null,
   "metadata": {},
   "outputs": [],
   "source": [
    "efficiency = piv.time.loc[1] / piv.time\n",
    "efficiency = efficiency.query(\"tasks > 1\")"
   ]
  },
  {
   "cell_type": "code",
   "execution_count": null,
   "metadata": {},
   "outputs": [],
   "source": [
    "spmv = \"csr-coo\"\n",
    "tmp_flops = efficiency[spmv].unstack([\"stencil\", \"local_size\"])\n",
    "fig, axs = plt.subplots(2, 2, figsize=(14 * 0.75, 12 * 0.75), dpi=300, sharex=True, sharey=True)\n",
    "for stencil, ax in zip(tmp_flops.columns.levels[0], axs.flatten()):\n",
    "    _df = tmp_flops[stencil]\n",
    "    ax.set_prop_cycle(default_cycler)\n",
    "    ax.set_title(f\"{stencil} with {spmv}\")\n",
    "    _df.plot(ax=ax, legend=True, logx=True, )\n",
    "    ax.set_ylabel(\"Efficiency w.r.t. 1 GPU\")\n",
    "    ax.set_xlabel(\"Num GPUs\")"
   ]
  },
  {
   "cell_type": "code",
   "execution_count": null,
   "metadata": {},
   "outputs": [],
   "source": [
    "flops = (2 * piv.nnz ) / piv.time / 1e12\n",
    "print(flops)"
   ]
  },
  {
   "cell_type": "code",
   "execution_count": null,
   "metadata": {},
   "outputs": [],
   "source": [
    "spmv = \"csr-coo\"\n",
    "tmp_flops = flops[spmv].unstack([\"stencil\", \"local_size\"])\n",
    "fig, axs = plt.subplots(2, 2, figsize=(14 * 0.75, 12 * 0.75), dpi=300, sharex=True, sharey=True)\n",
    "for stencil, ax in zip(tmp_flops.columns.levels[0], axs.flatten()):\n",
    "    _df = tmp_flops[stencil]\n",
    "    ax.set_prop_cycle(default_cycler)\n",
    "    _df.plot(ax=ax, legend=True, logx=True, logy=True)\n",
    "    ax.set_title(f\"{stencil} with {spmv}\")\n",
    "    ax.set_ylabel(\"TFLOP/s\")\n",
    "    ax.set_xlabel(\"Num GPUs\")\n",
    "     #ax.legend([f\"{n:g}\" for n in _df.columns.levels[1]])\n",
    "    #fig.savefig(f\"{root_path}/img/{dim}d.png\")"
   ]
  },
  {
   "cell_type": "code",
   "execution_count": null,
   "metadata": {},
   "outputs": [],
   "source": []
  }
 ],
 "metadata": {
  "kernelspec": {
   "display_name": "Python 3",
   "language": "python",
   "name": "python3"
  },
  "language_info": {
   "codemirror_mode": {
    "name": "ipython",
    "version": 2
   },
   "file_extension": ".py",
   "mimetype": "text/x-python",
   "name": "python",
   "nbconvert_exporter": "python",
   "pygments_lexer": "ipython2",
   "version": "2.7.6"
  }
 },
 "nbformat": 4,
 "nbformat_minor": 0
}
