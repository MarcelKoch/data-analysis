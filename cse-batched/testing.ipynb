{
 "cells": [
  {
   "cell_type": "code",
   "execution_count": null,
   "metadata": {},
   "outputs": [],
   "source": [
    "import re\n",
    "\n",
    "import pandas as pd\n",
    "from pathlib import Path\n",
    "from ploting import *"
   ]
  },
  {
   "cell_type": "code",
   "execution_count": null,
   "metadata": {},
   "outputs": [],
   "source": [
    "root_path = \"guyot\""
   ]
  },
  {
   "cell_type": "code",
   "execution_count": null,
   "metadata": {},
   "outputs": [],
   "source": [
    "time_re = re.compile(\"apply - inverse mass -.*\\|\\s+(\\d+)\\s+\\|\\s+(\\d+(\\.\\d+)?)\")"
   ]
  },
  {
   "cell_type": "code",
   "execution_count": null,
   "metadata": {},
   "outputs": [],
   "source": [
    "iter_re = re.compile(\"DEAL:.*::iterations:\\s*(\\d+)\")"
   ]
  },
  {
   "cell_type": "code",
   "execution_count": null,
   "metadata": {},
   "outputs": [],
   "source": [
    "batch_iter_re = re.compile(\"\\[(\\d+)\\|(\\d+)\\|\")"
   ]
  },
  {
   "cell_type": "code",
   "execution_count": null,
   "metadata": {},
   "outputs": [],
   "source": [
    "def config_data(filename: str):\n",
    "    items = filename.replace(\".out\", \"\").split(\"-\")\n",
    "    return dict((key, value) for key, value in [item.split(\"_\", maxsplit=1) for item in items])"
   ]
  },
  {
   "cell_type": "code",
   "execution_count": null,
   "metadata": {},
   "outputs": [],
   "source": [
    "data = []\n",
    "for file in Path(f\"{root_path}/data\").iterdir():\n",
    "    with open(file, \"r\") as input:\n",
    "        if t_m := time_re.search(input.read()):\n",
    "            data.append({**config_data(file.name),\n",
    "                         \"time\": t_m.group(2), \"timesteps\": t_m.group(1)})\n",
    "df = pd.DataFrame(data).astype({\"dim\": int, \"ncells\": int, \"degree\": int, \"timesteps\": int, \"time\": float}).drop(columns=[\"cpu\", \"dryrun\", \"fmt\", \"refinement\", \"dim\", \"batchsize\", \"exec\", \"gpu\"])\n",
    "df"
   ]
  },
  {
   "cell_type": "code",
   "execution_count": null,
   "metadata": {},
   "outputs": [],
   "source": [
    "def get_iters(testcase, refinement, degree):\n",
    "    data = dict()\n",
    "    for file in Path(f\"{root_path}/data\").iterdir():\n",
    "        if f\"testcase_{testcase}\" in file.name and f\"refinement_{refinement}\" in file.name and f\"degree_{degree}\"in file.name:\n",
    "            matrix_iters = list()\n",
    "            batch_iters = list()\n",
    "            timesteps = 1\n",
    "            with open(file, \"r\") as input:\n",
    "                for i_m in iter_re.finditer(input.read()):\n",
    "                    matrix_iters.append(int(i_m.group(1)))\n",
    "            with open(file, \"r\") as input:\n",
    "                for l in input:\n",
    "                    if i_m:= batch_iter_re.search(l):\n",
    "                        batch_iters += map(int, l[i_m.end():-2].split(\",\"))\n",
    "            with open(file, \"r\") as input:\n",
    "                if t_m := time_re.search(input.read()):\n",
    "                    timesteps = int(t_m.group(1))\n",
    "            if matrix_iters:\n",
    "                data[\"matrix\"] = pd.Series(matrix_iters)\n",
    "            if batch_iters:\n",
    "                data[\"batch\"] = pd.Series(batch_iters)\n",
    "    return pd.DataFrame(data), timesteps"
   ]
  },
  {
   "cell_type": "code",
   "execution_count": null,
   "metadata": {},
   "outputs": [],
   "source": [
    "iters, timesteps = get_iters(1, 4, 5)\n",
    "print(iters.matrix.mean())\n",
    "print(iters.batch.describe())"
   ]
  },
  {
   "cell_type": "code",
   "execution_count": null,
   "metadata": {},
   "outputs": [],
   "source": [
    "iters_nu, ts_nu = iters, timesteps\n",
    "iters_u, ts_u = get_iters(0, 5, 5)\n",
    "bins = range(int(min(iters_u.batch.min(), iters_nu.batch.min())), iters_nu.batch.max() + 1)\n",
    "weights = [[1 / ts_u] * len(iters_u.batch), [1 / ts_nu] * len(iters_nu.batch)]\n",
    "fig, ax = plt.subplots(dpi=150, layout=\"tight\")\n",
    "ax.hist([iters_u.batch, iters_nu.batch], bins=bins, weights=weights, align=\"left\", histtype=\"stepfilled\", alpha=0.9)\n",
    "ax.axvline(iters_u.matrix.mean(), c='C0', ls=\":\")\n",
    "ax.axvline(iters_nu.matrix.mean(), c='C1', ls=\":\")\n",
    "ax.set_title(\"Distribution of Iterations until Convergence\")\n",
    "ax.legend([\"Non Uniform\", \"Uniform\"])\n",
    "ax.set_ylabel(\"Frequency\")\n",
    "ax.set_xlabel(\"Number of Iterations\")\n",
    "ax.grid(False)"
   ]
  },
  {
   "cell_type": "code",
   "execution_count": null,
   "metadata": {},
   "outputs": [],
   "source": [
    "fig, ax = plt.subplots(dpi=150, layout=\"tight\")\n",
    "iters.batch.hist(axes=ax, bins=range(iters.batch.min(), iters.batch.max() + 1), weights=[1 / timesteps] * len(iters.batch),\n",
    "                 align=\"left\")\n",
    "ax.axvline(iters.matrix.mean(), c='r')\n",
    "ax.set_title(\"Iteration Distribution (Non-Uniform)\")\n",
    "ax.legend([\"Full matrix\"])\n",
    "ax.grid(False)"
   ]
  },
  {
   "cell_type": "code",
   "execution_count": null,
   "metadata": {},
   "outputs": [],
   "source": [
    "iters, timesteps = get_iters(0, 5, 5)\n",
    "fig, ax = plt.subplots(dpi=150, layout=\"tight\")\n",
    "iters.batch.hist(axes=ax, bins=range(iters.batch.min(), iters.batch.max() + 1), weights=[1 / timesteps] * len(iters.batch),\n",
    "                 align=\"left\")\n",
    "ax.axvline(iters.matrix.mean(), c='r')\n",
    "ax.set_title(\"Iteration Distribution (Uniform)\")\n",
    "ax.legend([\"Full matrix\"])\n",
    "ax.grid(False)"
   ]
  },
  {
   "cell_type": "code",
   "execution_count": null,
   "metadata": {},
   "outputs": [],
   "source": [
    "df['time_normalized'] = df.time / df.timesteps / df.ncells\n",
    "df"
   ]
  },
  {
   "cell_type": "code",
   "execution_count": null,
   "metadata": {},
   "outputs": [],
   "source": [
    "df[\"dofs/s\"] = (df.ncells * (4 * (df.degree + 1) ** 2)) / df.time / df.timesteps\n",
    "df"
   ]
  },
  {
   "cell_type": "code",
   "execution_count": null,
   "metadata": {},
   "outputs": [],
   "source": [
    "df0 = df[df.testcase == \"0\"]\n",
    "df1 = df[df.testcase == \"1\"]"
   ]
  },
  {
   "cell_type": "code",
   "execution_count": null,
   "metadata": {},
   "outputs": [],
   "source": [
    "t1 = df1.set_index([\"ncells\", \"degree\", \"solver\"])[\"dofs/s\"].sort_index()\n",
    "t1.unstack([1, 2])[5].plot(logx=True, logy=True)"
   ]
  },
  {
   "cell_type": "code",
   "execution_count": null,
   "metadata": {},
   "outputs": [],
   "source": [
    "t1 = df1.set_index([\"ncells\", \"degree\", \"solver\"])[\"time_normalized\"].sort_index()\n",
    "t0 = df0.set_index([\"ncells\", \"degree\", \"solver\"])[\"time_normalized\"].sort_index()"
   ]
  },
  {
   "cell_type": "code",
   "execution_count": null,
   "metadata": {},
   "outputs": [],
   "source": [
    "t0.unstack([1, 2])[5]"
   ]
  },
  {
   "cell_type": "code",
   "execution_count": null,
   "metadata": {},
   "outputs": [],
   "source": [
    "t1.unstack([1, 2])[5]"
   ]
  },
  {
   "cell_type": "code",
   "execution_count": null,
   "metadata": {},
   "outputs": [],
   "source": [
    "fig = plt.figure(layout=\"tight\", dpi=200)\n",
    "gs = fig.gs = fig.add_gridspec(1, 3, wspace=0)\n",
    "axes = gs.subplots(sharex=True, sharey=True)\n",
    "data = t1.unstack([1, 2])\n",
    "data[3].plot(ax=axes[0], logx=True, logy=True, legend=False)\n",
    "axes[0].set_title(\"P3\")\n",
    "data[5].plot(ax=axes[1], logx=True, logy=True, legend=False)\n",
    "axes[1].set_title(\"P5\")\n",
    "data[7].plot(ax=axes[2], logx=True, logy=True, legend=False)\n",
    "axes[2].set_title(\"P7\")\n",
    "axes[0].legend([\"Batches\", \"Full Matrix\"])\n",
    "axes[0].set_ylabel(\"Time / (Time Step / Cells)\")\n",
    "axes[0].set_xlabel(\"Cells\")\n",
    "axes[1].set_xlabel(\"Cells\")\n",
    "axes[2].set_xlabel(\"Cells\")\n",
    "fig.suptitle(\"Non Uniform Mesh\")"
   ]
  },
  {
   "cell_type": "code",
   "execution_count": null,
   "metadata": {},
   "outputs": [],
   "source": [
    "fig = plt.figure(layout=\"tight\", dpi=200)\n",
    "gs = fig.gs = fig.add_gridspec(1, 3, wspace=0)\n",
    "axes = gs.subplots(sharex=True, sharey=True)\n",
    "data = t0.unstack([1, 2])\n",
    "data[3].plot(ax=axes[0], logx=True, logy=True)\n",
    "axes[0].set_title(\"P3\")\n",
    "data[5].plot(ax=axes[1], logx=True, logy=True, legend=False)\n",
    "axes[1].set_title(\"P5\")\n",
    "data[7].plot(ax=axes[2], logx=True, logy=True, legend=False)\n",
    "axes[2].set_title(\"P7\")\n",
    "axes[0].legend([\"Batches\", \"Full Matrix\"])\n",
    "axes[0].set_ylabel(\"Time / (Time Step / Cells)\")\n",
    "axes[0].set_xlabel(\"Cells\")\n",
    "axes[1].set_xlabel(\"Cells\")\n",
    "axes[2].set_xlabel(\"Cells\")\n",
    "fig.suptitle(\"Uniform Mesh\")"
   ]
  },
  {
   "cell_type": "code",
   "execution_count": null,
   "metadata": {},
   "outputs": [],
   "source": [
    "a = pd.Series([1,2,3])\n",
    "b = pd.Series([4,5,6, 7])\n",
    "p = pd.DataFrame({\"a\": a, \"b\": b})\n",
    "p"
   ]
  },
  {
   "cell_type": "code",
   "execution_count": null,
   "metadata": {},
   "outputs": [],
   "source": [
    "p.columns"
   ]
  }
 ],
 "metadata": {
  "kernelspec": {
   "display_name": "Python 3",
   "language": "python",
   "name": "python3"
  },
  "language_info": {
   "codemirror_mode": {
    "name": "ipython",
    "version": 2
   },
   "file_extension": ".py",
   "mimetype": "text/x-python",
   "name": "python",
   "nbconvert_exporter": "python",
   "pygments_lexer": "ipython2",
   "version": "2.7.6"
  }
 },
 "nbformat": 4,
 "nbformat_minor": 0
}
