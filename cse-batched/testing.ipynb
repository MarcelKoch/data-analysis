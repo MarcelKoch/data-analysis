{
 "cells": [
  {
   "cell_type": "code",
   "execution_count": null,
   "metadata": {},
   "outputs": [],
   "source": [
    "import re\n",
    "\n",
    "import pandas as pd\n",
    "from pathlib import Path\n",
    "from ploting import *"
   ]
  },
  {
   "cell_type": "code",
   "execution_count": null,
   "metadata": {},
   "outputs": [],
   "source": [
    "root_path = \"guyot\""
   ]
  },
  {
   "cell_type": "code",
   "execution_count": null,
   "metadata": {},
   "outputs": [],
   "source": [
    "time_re = re.compile(\"apply - inverse mass -.*\\|\\s+(\\d+)\\s+\\|\\s+(\\d+(\\.\\d+)?)\")"
   ]
  },
  {
   "cell_type": "code",
   "execution_count": null,
   "metadata": {},
   "outputs": [],
   "source": [
    "iter_re = re.compile(\"DEAL:.*::iterations:\\s*(\\d+)\")"
   ]
  },
  {
   "cell_type": "code",
   "execution_count": null,
   "metadata": {},
   "outputs": [],
   "source": [
    "batch_iter_re = re.compile(\"\\[(\\d+)\\|(\\d+)\\|\")"
   ]
  },
  {
   "cell_type": "code",
   "execution_count": null,
   "metadata": {},
   "outputs": [],
   "source": [
    "def config_data(filename: str):\n",
    "    items = filename.replace(\".out\", \"\").split(\"-\")\n",
    "    return dict((key, value) for key, value in [item.split(\"_\", maxsplit=1) for item in items])"
   ]
  },
  {
   "cell_type": "code",
   "execution_count": null,
   "metadata": {},
   "outputs": [],
   "source": [
    "data = []\n",
    "for file in Path(f\"{root_path}/data\").iterdir():\n",
    "    with open(file, \"r\") as input:\n",
    "        if t_m := time_re.search(input.read()):\n",
    "            data.append({**config_data(file.name),\n",
    "                         \"time\": t_m.group(2), \"timesteps\": t_m.group(1)})\n",
    "df = pd.DataFrame(data).astype({\"dim\": int, \"ncells\": int, \"degree\": int, \"timesteps\": int, \"time\": float}).drop(columns=[\"cpu\", \"dryrun\", \"fmt\", \"refinement\", \"dim\", \"batchsize\", \"exec\", \"gpu\"])\n",
    "df"
   ]
  },
  {
   "cell_type": "code",
   "execution_count": null,
   "metadata": {},
   "outputs": [],
   "source": [
    "file = \"data/ncells_100-batchsize_full-cpu_False-dim_2-dryrun_False-exec_cuda-fmt_csr-gpu_True-degree_5-refinements_0-solver_batched_iterative-testcase_1.out\"\n",
    "with open(file, \"r\") as input:\n",
    "    iters = []\n",
    "    for l in input:\n",
    "        if i_m:= batch_iter_re.search(l):\n",
    "            iters.append(pd.Series(map(int, l[i_m.end():-2].split(\",\"))).describe().T)\n",
    "    print(pd.DataFrame(iters))"
   ]
  },
  {
   "cell_type": "code",
   "execution_count": null,
   "metadata": {},
   "outputs": [],
   "source": [
    "t = pd.DataFrame(iters)\n",
    "t.quantile(0.9)"
   ]
  },
  {
   "cell_type": "code",
   "execution_count": null,
   "metadata": {},
   "outputs": [],
   "source": [
    "df['time_normalized'] = df.time / df.timesteps / df.ncells\n",
    "df"
   ]
  },
  {
   "cell_type": "code",
   "execution_count": null,
   "metadata": {},
   "outputs": [],
   "source": [
    "df0 = df[df.testcase == \"0\"]\n",
    "df1 = df[df.testcase == \"1\"]"
   ]
  },
  {
   "cell_type": "code",
   "execution_count": null,
   "metadata": {},
   "outputs": [],
   "source": [
    "t1 = df1.set_index([\"ncells\", \"degree\", \"solver\"]).time_normalized.sort_index()\n",
    "t0 = df0.set_index([\"ncells\", \"degree\", \"solver\"]).time_normalized.sort_index()"
   ]
  },
  {
   "cell_type": "code",
   "execution_count": null,
   "metadata": {},
   "outputs": [],
   "source": [
    "t1.unstack([1, 2])[5]"
   ]
  },
  {
   "cell_type": "code",
   "execution_count": null,
   "metadata": {},
   "outputs": [],
   "source": [
    "fig, axes = plt.subplots(1, 3)\n",
    "data = t1.unstack([1, 2])\n",
    "data[3].plot(ax=axes[0], logx=True, logy=True)\n",
    "axes[0].set_title(\"P3\")\n",
    "data[5].plot(ax=axes[1], logx=True, logy=True)\n",
    "axes[1].set_title(\"P5\")\n",
    "data[7].plot(ax=axes[2], logx=True, logy=True)\n",
    "axes[2].set_title(\"P7\")"
   ]
  },
  {
   "cell_type": "code",
   "execution_count": null,
   "metadata": {},
   "outputs": [],
   "source": [
    "fig, axes = plt.subplots(1, 3)\n",
    "data = t0.unstack([1, 2])\n",
    "data[3].plot(ax=axes[0], logx=True, logy=True)\n",
    "axes[0].set_title(\"P3\")\n",
    "data[5].plot(ax=axes[1], logx=True, logy=True)\n",
    "axes[1].set_title(\"P5\")\n",
    "data[7].plot(ax=axes[2], logx=True, logy=True)\n",
    "axes[2].set_title(\"P7\")"
   ]
  },
  {
   "cell_type": "code",
   "execution_count": null,
   "metadata": {},
   "outputs": [],
   "source": [
    "a = pd.Series([1,2,3])\n",
    "b = pd.Series([4,5,6, 7])\n",
    "p = pd.DataFrame({\"a\": a, \"b\": b})\n",
    "p"
   ]
  },
  {
   "cell_type": "code",
   "execution_count": null,
   "metadata": {},
   "outputs": [],
   "source": [
    "p.columns"
   ]
  }
 ],
 "metadata": {
  "kernelspec": {
   "display_name": "Python 3",
   "language": "python",
   "name": "python3"
  },
  "language_info": {
   "codemirror_mode": {
    "name": "ipython",
    "version": 2
   },
   "file_extension": ".py",
   "mimetype": "text/x-python",
   "name": "python",
   "nbconvert_exporter": "python",
   "pygments_lexer": "ipython2",
   "version": "2.7.6"
  }
 },
 "nbformat": 4,
 "nbformat_minor": 0
}
