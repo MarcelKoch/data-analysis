{
 "cells": [
  {
   "cell_type": "code",
   "execution_count": null,
   "metadata": {},
   "outputs": [],
   "source": [
    "import re\n",
    "\n",
    "import pandas as pd\n",
    "from pathlib import Path\n",
    "from ploting import *\n",
    "import json\n",
    "import math"
   ]
  },
  {
   "cell_type": "code",
   "execution_count": null,
   "metadata": {},
   "outputs": [],
   "source": [
    "root_path = \"crusher\""
   ]
  },
  {
   "cell_type": "code",
   "execution_count": null,
   "metadata": {},
   "outputs": [],
   "source": [
    "name_re = re.compile(\"(weak|strong)_scaling-nodes_(\\d+)-ppn_(\\d+)-(gpu|cpu)-size_(\\d+\\w)\")"
   ]
  },
  {
   "cell_type": "code",
   "execution_count": null,
   "metadata": {},
   "outputs": [],
   "source": [
    "data = json.load(open(f\"crusher/data_strong/strong_scaling-nodes_1-ppn_1-gpu-size_41M.json\"))\n",
    "data"
   ]
  },
  {
   "cell_type": "code",
   "execution_count": null,
   "metadata": {},
   "outputs": [],
   "source": [
    "def flatten(json_data, extra_data):\n",
    "    flat_data = []\n",
    "    for run in json_data:\n",
    "        for solver_name, solver_data in run[\"solver\"].items():\n",
    "            flat_run = {}\n",
    "            flat_run[\"solver\"] = solver_name\n",
    "            flat_run.update(**extra_data)\n",
    "            flat_run.update(time=solver_data[\"apply\"][\"time\"],\n",
    "                            iterations=solver_data[\"apply\"][\"iterations\"],\n",
    "                            res_norm=solver_data[\"residual_norm\"],\n",
    "                            spmv=run[\"optimal\"][\"spmv\"])\n",
    "            flat_run.update((k, v) for k, v in run.items() if not isinstance(v, dict))\n",
    "            flat_data.append(flat_run)\n",
    "    return flat_data"
   ]
  },
  {
   "cell_type": "code",
   "execution_count": null,
   "metadata": {},
   "outputs": [],
   "source": [
    "flatten(data, {})"
   ]
  },
  {
   "cell_type": "code",
   "execution_count": null,
   "metadata": {},
   "outputs": [],
   "source": [
    "data = []\n",
    "for file in Path(f\"{root_path}/data_strong\").iterdir():\n",
    "    if m := name_re.search(file.name):\n",
    "        data += flatten(json.load(open(file)), {\"tasks\": int(m.group(2)) * int(m.group(3)),\n",
    "                                                \"common_size\": m.group(5)})\n",
    "df = pd.DataFrame(data).drop(columns=[\"comm_pattern\"])\n",
    "df"
   ]
  },
  {
   "cell_type": "code",
   "execution_count": null,
   "metadata": {},
   "outputs": [],
   "source": [
    "dfs = df.set_index([\"solver\", \"common_size\", \"tasks\"]).sort_index()\n",
    "#dfs[\"ideal\"] = dfs[\"time\"][1] / dfs.index\n",
    "dfs"
   ]
  },
  {
   "cell_type": "code",
   "execution_count": null,
   "metadata": {},
   "outputs": [],
   "source": [
    "def format_dofs(dofs):\n",
    "    suffix = {0: \"\", 1: \"K\", 2: \"M\", 3: \"G\", 4: \"T\"}\n",
    "    magnitude = int(math.log(dofs, 1_000))\n",
    "    return f\"{dofs // 1_000 ** magnitude}{suffix[magnitude]} DOFs\"\n"
   ]
  },
  {
   "cell_type": "code",
   "execution_count": null,
   "metadata": {},
   "outputs": [],
   "source": [
    "fig, axs = plt.subplots(1, 2, figsize=(9, 5))\n",
    "t_per_it_dof = dfs.time / dfs.iterations\n",
    "time = dfs.time.unstack([\"solver\", \"common_size\"])\n",
    "time = t_per_it_dof.unstack([\"solver\", \"common_size\"])\n",
    "for i, solver in enumerate(time.columns.levels[0]):\n",
    "    ax = axs[i]\n",
    "    for cs in reversed(time[solver].columns):\n",
    "        cs_time = time[solver][cs].dropna()\n",
    "        ideal = pd.Series(cs_time.iloc[0], cs_time.index) / (cs_time.index / cs_time.index[0])\n",
    "        ideal.plot(ax=ax, c=\"k\", ls=\"--\", marker=\"\")\n",
    "        cs_time.plot(ax=ax, label=cs, legend=True)\n",
    "    ax.set_xscale(\"log\")\n",
    "    ax.set_yscale(\"log\")\n",
    "    ax.set_title(f\"Strong Scaling - {solver.replace('schwarz', 'local').replace('-', ' ').title()}\")\n",
    "    ax.set_ylabel(\"Time per Iteration\")\n",
    "    ax.set_xlabel(\"Num GPUs\")"
   ]
  },
  {
   "cell_type": "code",
   "execution_count": null,
   "metadata": {},
   "outputs": [],
   "source": [
    "fig, ax = plt.subplots()\n",
    "time = dfs.time.unstack(\"common_size\")\n",
    "for cs in time.columns:\n",
    "    cs_time = time[cs].dropna()\n",
    "    speedup = cs_time.iloc[0] / cs_time\n",
    "    ax.plot(cs_time.index, cs_time.index / cs_time.index[0],c=\"k\", ls=\"--\", marker=\"\")\n",
    "    speedup.plot(ax=ax, label=cs, legend=True)\n",
    "ax.set_xscale(\"log\")\n",
    "ax.set_yscale(\"log\")\n",
    "ax.set_title(\"Speedup - CG with Jacobi\")\n",
    "ax.set_ylabel(\"Speedup\")\n",
    "ax.set_xlabel(\"Num GPUs\")"
   ]
  },
  {
   "cell_type": "code",
   "execution_count": null,
   "metadata": {},
   "outputs": [],
   "source": [
    "dfs.iterations.unstack(\"common_size\").describe()"
   ]
  },
  {
   "cell_type": "code",
   "execution_count": null,
   "metadata": {},
   "outputs": [],
   "source": [
    "r = dfs[\"size\"].reset_index()\n",
    "r[\"tasks_2\"] = r.tasks\n",
    "r = r.set_index([\"tasks\", \"common_size\"])\n",
    "(r[\"size\"] / r.tasks_2).unstack(\"common_size\")"
   ]
  }
 ],
 "metadata": {
  "kernelspec": {
   "display_name": "Python 3",
   "language": "python",
   "name": "python3"
  },
  "language_info": {
   "codemirror_mode": {
    "name": "ipython",
    "version": 2
   },
   "file_extension": ".py",
   "mimetype": "text/x-python",
   "name": "python",
   "nbconvert_exporter": "python",
   "pygments_lexer": "ipython2",
   "version": "2.7.6"
  }
 },
 "nbformat": 4,
 "nbformat_minor": 0
}
