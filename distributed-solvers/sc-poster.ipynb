{
 "cells": [
  {
   "cell_type": "code",
   "execution_count": null,
   "metadata": {
    "pycharm": {
     "name": "#%%\n"
    }
   },
   "outputs": [],
   "source": [
    "import re\n",
    "\n",
    "import pandas as pd\n",
    "from pathlib import Path\n",
    "from ploting import *"
   ]
  },
  {
   "cell_type": "code",
   "execution_count": null,
   "metadata": {
    "pycharm": {
     "name": "#%%\n"
    }
   },
   "outputs": [],
   "source": [
    "root_path = \"crusher\""
   ]
  },
  {
   "cell_type": "code",
   "execution_count": null,
   "metadata": {
    "pycharm": {
     "name": "#%%\n"
    }
   },
   "outputs": [],
   "source": [
    "name_re = re.compile(\"(weak|strong)_scaling-(\\d+pt)-n_(\\d+)-([\\w_]+)_comm-(gpu|cpu)-nodes_(\\d+)\")"
   ]
  },
  {
   "cell_type": "code",
   "execution_count": null,
   "metadata": {
    "pycharm": {
     "name": "#%%\n"
    }
   },
   "outputs": [],
   "source": [
    "time_re = re.compile(\"DURATION:\\s*(\\d+(\\.\\d+)?(e[+-]\\d+)?)\")"
   ]
  },
  {
   "cell_type": "code",
   "execution_count": null,
   "metadata": {
    "pycharm": {
     "name": "#%%\n"
    }
   },
   "outputs": [],
   "source": [
    "size_re = re.compile(\"SIZE:\\s*(\\d+)\")"
   ]
  },
  {
   "cell_type": "code",
   "execution_count": null,
   "metadata": {
    "pycharm": {
     "name": "#%%\n"
    }
   },
   "outputs": [],
   "source": [
    "stencil_type = dict([((True, 2), \"5pt\"), ((True, 3), \"7pt\"), ((False, 2), \"9pt\"), ((False, 3), \"27pt\")])"
   ]
  },
  {
   "cell_type": "code",
   "execution_count": null,
   "metadata": {
    "pycharm": {
     "name": "#%%\n"
    }
   },
   "outputs": [],
   "source": [
    "num_gpus = 8"
   ]
  },
  {
   "cell_type": "code",
   "execution_count": null,
   "metadata": {
    "pycharm": {
     "name": "#%%\n"
    }
   },
   "outputs": [],
   "source": [
    "data = []\n",
    "for file in Path(f\"{root_path}/data\").iterdir():\n",
    "    if m := name_re.search(file.name):\n",
    "        with open(file, \"r\") as input:\n",
    "            input_str = input.read()\n",
    "            duration = 0\n",
    "            size = 0\n",
    "            if t_m := time_re.search(input_str):\n",
    "                duration = t_m.group(1)\n",
    "            if s_m := size_re.search(input_str):\n",
    "                size = s_m.group(1)\n",
    "            data.append({\"scaling\": m.group(1), \"stencil\": m.group(2), \"n\": m.group(3),\n",
    "                         \"comm_pattern\": m.group(4),\n",
    "                         \"type\": m.group(5), \"nodes\": m.group(6), \"time\": duration, \"size\": size})\n",
    "df = pd.DataFrame(data).drop(columns=[\"scaling\", \"type\"]).astype({\"n\": int, \"nodes\": int, \"time\": float, \"size\": int})\n",
    "df"
   ]
  },
  {
   "cell_type": "code",
   "execution_count": null,
   "metadata": {
    "pycharm": {
     "name": "#%%\n"
    }
   },
   "outputs": [],
   "source": [
    "df[\"gpus\"] = df[\"nodes\"] * num_gpus"
   ]
  },
  {
   "cell_type": "code",
   "execution_count": null,
   "metadata": {
    "pycharm": {
     "name": "#%%\n"
    }
   },
   "outputs": [],
   "source": [
    "piv = df.drop(columns=[\"size\", \"nodes\"]).pivot(index=\"gpus\", columns=[\"stencil\", \"comm_pattern\", \"n\"], values=\"time\")\n",
    "piv = piv[piv.columns.sort_values()]\n",
    "piv"
   ]
  },
  {
   "cell_type": "code",
   "execution_count": null,
   "metadata": {
    "pycharm": {
     "name": "#%%\n"
    }
   },
   "outputs": [],
   "source": [
    "piv[\"5pt\"]"
   ]
  },
  {
   "cell_type": "code",
   "execution_count": null,
   "metadata": {
    "pycharm": {
     "name": "#%%\n"
    }
   },
   "outputs": [],
   "source": [
    "df[\"flop\"] = df[\"size\"] * (df.stencil.apply(lambda s: int(s[:-2])) *2 + 12)\n",
    "df[\"flop/s\"] = df.flop / df.time\n",
    "df"
   ]
  },
  {
   "cell_type": "code",
   "execution_count": null,
   "metadata": {
    "pycharm": {
     "name": "#%%\n"
    }
   },
   "outputs": [],
   "source": [
    "piv_flops = df[df.n >= 100000].drop(columns=[\"size\", \"nodes\", \"flop\", \"time\"]).pivot(index=\"gpus\", columns=[\"comm_pattern\", \"n\", \"stencil\"], values=\"flop/s\")\n",
    "piv_flops = piv_flops[piv_flops.columns.sort_values()]\n",
    "piv_flops[\"optimal\"][1000000]"
   ]
  },
  {
   "cell_type": "code",
   "execution_count": null,
   "metadata": {
    "pycharm": {
     "name": "#%%\n"
    }
   },
   "outputs": [],
   "source": [
    "_df = piv_flops[\"optimal\"][1000000]\n",
    "linear_scaling_x = [1] + list(_df.index) + [2000]\n",
    "linear_scaling = [_df[\"27pt\"][8] * 1.2 / 1e12 * i / _df.index[0] for i in linear_scaling_x]\n",
    "linear_scaling"
   ]
  },
  {
   "cell_type": "code",
   "execution_count": null,
   "metadata": {
    "pycharm": {
     "name": "#%%\n"
    }
   },
   "outputs": [],
   "source": [
    "4.624524e+13 * 3"
   ]
  },
  {
   "cell_type": "code",
   "execution_count": null,
   "metadata": {
    "pycharm": {
     "name": "#%%\n"
    }
   },
   "outputs": [],
   "source": [
    "linear_scaling_x"
   ]
  },
  {
   "cell_type": "code",
   "execution_count": null,
   "metadata": {
    "pycharm": {
     "name": "#%%\n"
    }
   },
   "outputs": [],
   "source": [
    "_df = piv_flops[\"optimal\"][1000000]\n",
    "fig, ax = plt.subplots(dpi=300)\n",
    "ax.set_prop_cycle(default_cycler)\n",
    "ax.set_title(f\"CG Performance per Iteration\")\n",
    "(_df / 1e12).plot(ax=ax, legend=True, logx=True, logy=True)\n",
    "xlim = ax.get_xlim()\n",
    "ylim = ax.get_ylim()\n",
    "ax.plot(linear_scaling_x, linear_scaling, '--', color=\"grey\", )\n",
    "ax.legend([n for n in piv_flops.columns.levels[2]] + [\"Ideal\"])\n",
    "ax.set_xlim([xlim[0] * 0.85, xlim[1] * 1.15])\n",
    "ax.set_ylim([ylim[0] * 0.85, ylim[1] * 1.15])\n",
    "ax.set_xlabel(\"# GPUs\")\n",
    "ax.set_ylabel(\"TFLOP/s\")\n",
    "fig.savefig(f\"{root_path}/img/optimal-flops.png\")"
   ]
  },
  {
   "cell_type": "code",
   "execution_count": null,
   "metadata": {
    "pycharm": {
     "name": "#%%\n"
    }
   },
   "outputs": [],
   "source": [
    "\"3pt\"[:-2]"
   ]
  }
 ],
 "metadata": {
  "kernelspec": {
   "display_name": "Python 3",
   "language": "python",
   "name": "python3"
  },
  "language_info": {
   "codemirror_mode": {
    "name": "ipython",
    "version": 2
   },
   "file_extension": ".py",
   "mimetype": "text/x-python",
   "name": "python",
   "nbconvert_exporter": "python",
   "pygments_lexer": "ipython2",
   "version": "2.7.6"
  }
 },
 "nbformat": 4,
 "nbformat_minor": 0
}
