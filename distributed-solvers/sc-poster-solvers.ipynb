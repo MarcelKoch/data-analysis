{
 "cells": [
  {
   "cell_type": "code",
   "execution_count": null,
   "metadata": {
    "pycharm": {
     "name": "#%%\n"
    }
   },
   "outputs": [],
   "source": [
    "import re\n",
    "\n",
    "import pandas as pd\n",
    "from pathlib import Path\n",
    "from ploting import *"
   ]
  },
  {
   "cell_type": "code",
   "execution_count": null,
   "metadata": {
    "pycharm": {
     "name": "#%%\n"
    }
   },
   "outputs": [],
   "source": [
    "root_path = \"crusher\""
   ]
  },
  {
   "cell_type": "code",
   "execution_count": null,
   "metadata": {
    "pycharm": {
     "name": "#%%\n"
    }
   },
   "outputs": [],
   "source": [
    "name_re = re.compile(\"(weak|strong)_scaling-(\\w+)-(\\d+pt)-n_(\\d+)-([\\w_]+)_comm-(gpu|cpu)-nodes_(\\d+)-ppn_(\\d+)\")"
   ]
  },
  {
   "cell_type": "code",
   "execution_count": null,
   "metadata": {
    "pycharm": {
     "name": "#%%\n"
    }
   },
   "outputs": [],
   "source": [
    "time_re = re.compile(\"DURATION:\\s*(\\d+(\\.\\d+)?(e[+-]\\d+)?)\")"
   ]
  },
  {
   "cell_type": "code",
   "execution_count": null,
   "metadata": {
    "pycharm": {
     "name": "#%%\n"
    }
   },
   "outputs": [],
   "source": [
    "size_re = re.compile(\"SIZE:\\s*(\\d+)\")"
   ]
  },
  {
   "cell_type": "code",
   "execution_count": null,
   "metadata": {
    "pycharm": {
     "name": "#%%\n"
    }
   },
   "outputs": [],
   "source": [
    "stencil_type = dict([((True, 2), \"5pt\"), ((True, 3), \"7pt\"), ((False, 2), \"9pt\"), ((False, 3), \"27pt\")])"
   ]
  },
  {
   "cell_type": "code",
   "execution_count": null,
   "metadata": {
    "pycharm": {
     "name": "#%%\n"
    }
   },
   "outputs": [],
   "source": [
    "num_gpus = 8"
   ]
  },
  {
   "cell_type": "code",
   "execution_count": null,
   "metadata": {
    "pycharm": {
     "name": "#%%\n"
    }
   },
   "outputs": [],
   "source": [
    "data = []\n",
    "for file in Path(f\"{root_path}/data_solvers\").iterdir():\n",
    "    if m := name_re.search(file.name):\n",
    "        with open(file, \"r\") as input:\n",
    "            input_str = input.read()\n",
    "            duration = 0\n",
    "            size = 0\n",
    "            if t_m := time_re.search(input_str):\n",
    "                duration = t_m.group(1)\n",
    "            if s_m := size_re.search(input_str):\n",
    "                size = s_m.group(1)\n",
    "            data.append({\"scaling\": m.group(1), \"solver\": m.group(2), \"stencil\": m.group(3), \"n\": m.group(4),\n",
    "                         \"comm_pattern\": m.group(5),\n",
    "                         \"type\": m.group(6), \"nodes\": m.group(7), \"ppn\": m.group(8), \"time\": duration, \"size\": size})\n",
    "df = pd.DataFrame(data).drop(columns=[\"scaling\", \"type\"]).astype({\"n\": int, \"nodes\": int, \"ppn\": int, \"time\": float, \"size\": int})\n",
    "df"
   ]
  },
  {
   "cell_type": "code",
   "execution_count": null,
   "metadata": {
    "pycharm": {
     "name": "#%%\n"
    }
   },
   "outputs": [],
   "source": [
    "df[\"gpus\"] = df[\"nodes\"] * df[\"ppn\"]"
   ]
  },
  {
   "cell_type": "code",
   "execution_count": null,
   "metadata": {
    "pycharm": {
     "name": "#%%\n"
    }
   },
   "outputs": [],
   "source": [
    "piv = df.drop(columns=[\"n\", \"size\", \"nodes\", \"stencil\", \"comm_pattern\"]).pivot(index=\"gpus\", columns=[\"solver\"], values=\"time\")\n",
    "piv = piv[piv.columns.sort_values()]\n",
    "piv"
   ]
  },
  {
   "cell_type": "code",
   "execution_count": null,
   "metadata": {
    "pycharm": {
     "name": "#%%\n"
    }
   },
   "outputs": [],
   "source": [
    "df[[\"n\", \"stencil\", \"solver\"]].agg(lambda x: x[2], axis=1)"
   ]
  },
  {
   "cell_type": "code",
   "execution_count": null,
   "metadata": {
    "pycharm": {
     "name": "#%%\n"
    }
   },
   "outputs": [],
   "source": [
    "df[\"flop\"] = df[[\"size\", \"stencil\", \"solver\"]].agg(lambda x: flops[x[2]](x[0], x[0] * int(x[1][:-2])), axis=1)\n",
    "df[\"flop/s\"] = df.flop / df.time\n",
    "df"
   ]
  },
  {
   "cell_type": "code",
   "execution_count": null,
   "metadata": {
    "pycharm": {
     "name": "#%%\n"
    }
   },
   "outputs": [],
   "source": [
    "def bicgstab(n, nnz):\n",
    "    return 2 * n + 8 * n + 2 * nnz + 2 * n + 3 * n + 2 * nnz + 2 * n + 2 * n + 7 * n\n",
    "def cgs(n, nnz):\n",
    "    return 2 * n + 7 * n + 2 * nnz + 4 * n + 2 * nnz + 4 * n\n",
    "def fcg(n, nnz):\n",
    "    return 2 * n + 2 * n + 3 * n + 2 * nnz + 2 * n + 6 * n\n",
    "def cg(n, nnz):\n",
    "    return 12 * n + 2 * nnz\n",
    "\n",
    "flops = {\"bicgstab\": bicgstab,\n",
    "         \"cgs\": cgs,\n",
    "         \"fcg\": fcg,\n",
    "         \"cg\": cg}"
   ]
  },
  {
   "cell_type": "code",
   "execution_count": null,
   "metadata": {
    "pycharm": {
     "name": "#%%\n"
    }
   },
   "outputs": [],
   "source": [
    "piv_flops = df[df.n >= 100000].drop(columns=[\"size\", \"nodes\", \"flop\", \"time\", \"comm_pattern\", \"stencil\"]).pivot(index=\"gpus\", columns=[\"solver\"], values=\"flop/s\")\n",
    "piv_flops = piv_flops[piv_flops.columns.sort_values()]\n",
    "piv_flops"
   ]
  },
  {
   "cell_type": "code",
   "execution_count": null,
   "metadata": {
    "pycharm": {
     "name": "#%%\n"
    }
   },
   "outputs": [],
   "source": [
    "_df = piv_flops\n",
    "linear_scaling_x = [0] + list(_df.index) + [2000]\n",
    "linear_scaling = [_df[\"bicgstab\"][1] * 1 / 1e12 * i / _df.index[0] for i in linear_scaling_x]\n",
    "linear_scaling"
   ]
  },
  {
   "cell_type": "code",
   "execution_count": null,
   "metadata": {
    "pycharm": {
     "name": "#%%\n"
    }
   },
   "outputs": [],
   "source": [
    "linear_scaling_x"
   ]
  },
  {
   "cell_type": "code",
   "execution_count": null,
   "metadata": {
    "pycharm": {
     "name": "#%%\n"
    }
   },
   "outputs": [],
   "source": [
    "_df = piv_flops\n",
    "fig, ax = plt.subplots(dpi=300)\n",
    "ax.set_prop_cycle(default_cycler)\n",
    "ax.set_title(f\"CG Performance per Iteration\")\n",
    "(_df / 1e12).plot(ax=ax, legend=True, logx=True, logy=True)\n",
    "xlim = ax.get_xlim()\n",
    "ylim = ax.get_ylim()\n",
    "ax.plot(linear_scaling_x, linear_scaling, '--', color=\"grey\", alpha=0.5)\n",
    "ax.legend([n.capitalize() for n in piv_flops.columns] + [\"Ideal\"])\n",
    "ax.set_xlim([xlim[0] * 0.85, xlim[1] * 1.15])\n",
    "ax.set_ylim([ylim[0] * 0.85, ylim[1] * 1.15])\n",
    "ax.set_xlabel(\"# GPUs\")\n",
    "ax.set_ylabel(\"TFLOP/s\")\n",
    "fig.savefig(f\"{root_path}/img/optimal-flops.png\")"
   ]
  },
  {
   "cell_type": "code",
   "execution_count": null,
   "metadata": {
    "pycharm": {
     "name": "#%%\n"
    }
   },
   "outputs": [],
   "source": [
    "\"3pt\"[:-2]"
   ]
  }
 ],
 "metadata": {
  "kernelspec": {
   "display_name": "Python 3",
   "language": "python",
   "name": "python3"
  },
  "language_info": {
   "codemirror_mode": {
    "name": "ipython",
    "version": 2
   },
   "file_extension": ".py",
   "mimetype": "text/x-python",
   "name": "python",
   "nbconvert_exporter": "python",
   "pygments_lexer": "ipython2",
   "version": "2.7.6"
  }
 },
 "nbformat": 4,
 "nbformat_minor": 0
}
