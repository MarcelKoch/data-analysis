{
 "cells": [
  {
   "cell_type": "code",
   "execution_count": null,
   "id": "initial_id",
   "metadata": {
    "ExecuteTime": {
     "end_time": "2024-08-30T10:25:05.379900Z",
     "start_time": "2024-08-30T10:25:05.375816Z"
    }
   },
   "outputs": [],
   "source": [
    "import pandas as pd\n",
    "from pathlib import Path\n",
    "import re"
   ]
  },
  {
   "cell_type": "code",
   "execution_count": null,
   "id": "15c782d1ca23a294",
   "metadata": {
    "ExecuteTime": {
     "end_time": "2024-08-30T10:16:49.465707Z",
     "start_time": "2024-08-30T10:16:49.461271Z"
    }
   },
   "outputs": [],
   "source": [
    "root = \"nla\""
   ]
  },
  {
   "cell_type": "code",
   "execution_count": null,
   "id": "4a65c06d3cf3f1e4",
   "metadata": {
    "ExecuteTime": {
     "end_time": "2024-08-30T10:17:49.868891Z",
     "start_time": "2024-08-30T10:17:49.864629Z"
    }
   },
   "outputs": [],
   "source": [
    "name_re = re.compile(r\"^batches_(\\d+)-exec_(\\w+)-matrixfree_(true|false)-size_(\\d+)\")\n",
    "time_re = re.compile(r\"^Time elapsed:\\s+(.+)\")"
   ]
  },
  {
   "cell_type": "code",
   "execution_count": null,
   "id": "752565bf7638067b",
   "metadata": {
    "ExecuteTime": {
     "end_time": "2024-08-30T11:00:51.756642Z",
     "start_time": "2024-08-30T11:00:51.747224Z"
    }
   },
   "outputs": [],
   "source": [
    "def parse(file):\n",
    "    if name_match := name_re.match(file.name):\n",
    "        with open(file, \"r\") as f:\n",
    "            for line in f:\n",
    "                if time_match := time_re.match(line):\n",
    "                    return dict(batches=int(name_match.group(1)),\n",
    "                                size=int(name_match.group(4)),\n",
    "                                exec=name_match.group(2),\n",
    "                                matrix_free=name_match.group(3),\n",
    "                                time=float(time_match.group(1)),\n",
    "                                )"
   ]
  },
  {
   "cell_type": "code",
   "execution_count": null,
   "id": "f287ca78f2d82de",
   "metadata": {
    "ExecuteTime": {
     "end_time": "2024-08-30T11:00:52.272203Z",
     "start_time": "2024-08-30T11:00:52.250241Z"
    }
   },
   "outputs": [],
   "source": [
    "parsed_files = []\n",
    "for file in (Path(root) / \"data\").iterdir():\n",
    "    if res := parse(file):\n",
    "        parsed_files.append(res)\n",
    "parsed_files"
   ]
  },
  {
   "cell_type": "code",
   "execution_count": null,
   "id": "37e4a02eb887a10e",
   "metadata": {
    "ExecuteTime": {
     "end_time": "2024-08-30T11:01:14.760027Z",
     "start_time": "2024-08-30T11:01:14.733725Z"
    }
   },
   "outputs": [],
   "source": [
    "df = pd.DataFrame(parsed_files)\n",
    "#df = df.drop(columns=[\"size\"])\n",
    "df = df.set_index([\"batches\", \"size\", \"matrix_free\"]).sort_index()\n",
    "df"
   ]
  },
  {
   "cell_type": "code",
   "execution_count": null,
   "id": "ef65c8eecace740",
   "metadata": {
    "ExecuteTime": {
     "end_time": "2024-08-30T11:07:21.427431Z",
     "start_time": "2024-08-30T11:07:21.418745Z"
    }
   },
   "outputs": [],
   "source": [
    "df_gpu = df[(df.exec == \"hip\") | (df.exec == \"cuda\")]\n",
    "df_cpu = df[df.exec == \"omp\"]"
   ]
  },
  {
   "cell_type": "code",
   "execution_count": null,
   "id": "ce4f32a2457d00d6",
   "metadata": {
    "ExecuteTime": {
     "end_time": "2024-08-30T11:03:46.763900Z",
     "start_time": "2024-08-30T11:03:46.754432Z"
    }
   },
   "outputs": [],
   "source": [
    "df_gpu.xs(256, level=\"size\")"
   ]
  },
  {
   "cell_type": "code",
   "execution_count": null,
   "id": "569650dbcfd9d62e",
   "metadata": {
    "ExecuteTime": {
     "end_time": "2024-08-30T11:04:06.333366Z",
     "start_time": "2024-08-30T11:04:06.328723Z"
    }
   },
   "outputs": [],
   "source": [
    "def plot_batches(_df):\n",
    "    size = 256\n",
    "    _df = _df.xs(size, level=\"size\")\n",
    "    exec = _df.exec.unique()[0]\n",
    "    _df.unstack(\"matrix_free\")[\"time\"].plot(logx=True, logy=True, ylabel=\"Time in [s]\", xlabel=\"Number of batches\", title=f\"Comparison of matrix-free and matrix-based CG solver [{exec}]\")"
   ]
  },
  {
   "cell_type": "code",
   "execution_count": null,
   "id": "4834d6ce3dff79a9",
   "metadata": {
    "ExecuteTime": {
     "end_time": "2024-08-30T11:04:11.412506Z",
     "start_time": "2024-08-30T11:04:10.851876Z"
    }
   },
   "outputs": [],
   "source": [
    "plot_batches(df_gpu)"
   ]
  },
  {
   "cell_type": "code",
   "execution_count": null,
   "id": "251cbe7453a7e871",
   "metadata": {
    "ExecuteTime": {
     "end_time": "2024-08-30T11:04:19.529058Z",
     "start_time": "2024-08-30T11:04:18.855379Z"
    }
   },
   "outputs": [],
   "source": [
    "plot_batches(df_cpu)"
   ]
  },
  {
   "cell_type": "code",
   "execution_count": null,
   "id": "5ef27e24e707865a",
   "metadata": {
    "ExecuteTime": {
     "end_time": "2024-08-30T11:06:27.651582Z",
     "start_time": "2024-08-30T11:06:27.646103Z"
    }
   },
   "outputs": [],
   "source": [
    "def plot_sizes(_df):\n",
    "    batches = 100000\n",
    "    _df = _df.xs(batches, level=\"batches\")\n",
    "    exec = _df.exec.unique()[0]\n",
    "    _df.unstack(\"matrix_free\")[\"time\"].plot(logx=True, logy=True, ylabel=\"Time in [s]\", xlabel=\"Matrix Size\", title=f\"Comparison of matrix-free and matrix-based CG solver [{exec}]\")"
   ]
  },
  {
   "cell_type": "code",
   "execution_count": null,
   "id": "bf8f7a68f3134769",
   "metadata": {
    "ExecuteTime": {
     "end_time": "2024-08-30T11:06:28.885120Z",
     "start_time": "2024-08-30T11:06:28.343939Z"
    }
   },
   "outputs": [],
   "source": [
    "plot_sizes(df_gpu)"
   ]
  },
  {
   "cell_type": "code",
   "execution_count": null,
   "id": "e79cadc7f42e672d",
   "metadata": {
    "ExecuteTime": {
     "end_time": "2024-08-30T11:07:24.906071Z",
     "start_time": "2024-08-30T11:07:24.331618Z"
    }
   },
   "outputs": [],
   "source": [
    "plot_sizes(df_cpu)"
   ]
  }
 ],
 "metadata": {
  "kernelspec": {
   "display_name": "Python 3",
   "language": "python",
   "name": "python3"
  },
  "language_info": {
   "codemirror_mode": {
    "name": "ipython",
    "version": 2
   },
   "file_extension": ".py",
   "mimetype": "text/x-python",
   "name": "python",
   "nbconvert_exporter": "python",
   "pygments_lexer": "ipython2",
   "version": "2.7.6"
  }
 },
 "nbformat": 4,
 "nbformat_minor": 5
}
